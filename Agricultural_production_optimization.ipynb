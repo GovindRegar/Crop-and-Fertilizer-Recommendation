{
  "nbformat": 4,
  "nbformat_minor": 0,
  "metadata": {
    "colab": {
      "provenance": [],
      "collapsed_sections": [],
      "authorship_tag": "ABX9TyMTWJLK7LkoNMrTaMRLkQ65",
      "include_colab_link": true
    },
    "kernelspec": {
      "name": "python3",
      "display_name": "Python 3"
    },
    "language_info": {
      "name": "python"
    },
    "widgets": {
      "application/vnd.jupyter.widget-state+json": {
        "b3618cbfdca243bf9cb0b1e9b1d0bc5a": {
          "model_module": "@jupyter-widgets/controls",
          "model_name": "VBoxModel",
          "model_module_version": "1.5.0",
          "state": {
            "_dom_classes": [
              "widget-interact"
            ],
            "_model_module": "@jupyter-widgets/controls",
            "_model_module_version": "1.5.0",
            "_model_name": "VBoxModel",
            "_view_count": null,
            "_view_module": "@jupyter-widgets/controls",
            "_view_module_version": "1.5.0",
            "_view_name": "VBoxView",
            "box_style": "",
            "children": [
              "IPY_MODEL_e4c883239b7a4567b77187e716be9074",
              "IPY_MODEL_7dba3231ac40403597e1f4b9feac3d2b"
            ],
            "layout": "IPY_MODEL_df2b7f084e6f4f688902cb8134bd001a"
          }
        },
        "e4c883239b7a4567b77187e716be9074": {
          "model_module": "@jupyter-widgets/controls",
          "model_name": "DropdownModel",
          "model_module_version": "1.5.0",
          "state": {
            "_dom_classes": [],
            "_model_module": "@jupyter-widgets/controls",
            "_model_module_version": "1.5.0",
            "_model_name": "DropdownModel",
            "_options_labels": [
              "rice",
              "maize",
              "jute",
              "cotton",
              "coconut",
              "papaya",
              "orange",
              "apple",
              "muskmelon",
              "watermelon",
              "grapes",
              "mango",
              "banana",
              "pomegranate",
              "lentil",
              "blackgram",
              "mungbean",
              "mothbeans",
              "pigeonpeas",
              "kidneybeans",
              "chickpea",
              "coffee"
            ],
            "_view_count": null,
            "_view_module": "@jupyter-widgets/controls",
            "_view_module_version": "1.5.0",
            "_view_name": "DropdownView",
            "description": "crops",
            "description_tooltip": null,
            "disabled": false,
            "index": 0,
            "layout": "IPY_MODEL_c78cb36d0d7f4443b5a4f6cf435ea1f3",
            "style": "IPY_MODEL_ba0aa30018c54b97ab4fa3e4fdd9c7c4"
          }
        },
        "7dba3231ac40403597e1f4b9feac3d2b": {
          "model_module": "@jupyter-widgets/output",
          "model_name": "OutputModel",
          "model_module_version": "1.0.0",
          "state": {
            "_dom_classes": [],
            "_model_module": "@jupyter-widgets/output",
            "_model_module_version": "1.0.0",
            "_model_name": "OutputModel",
            "_view_count": null,
            "_view_module": "@jupyter-widgets/output",
            "_view_module_version": "1.0.0",
            "_view_name": "OutputView",
            "layout": "IPY_MODEL_5b39cebb2ff74e4fb1e18e05ff09973a",
            "msg_id": "",
            "outputs": [
              {
                "output_type": "stream",
                "name": "stdout",
                "text": [
                  "---------------------------------------------\n",
                  "Statistics for nitrogen\n",
                  "Minimum amount of nitrogen required : 60\n",
                  "average amount of nitrogen required : 79.89\n",
                  "Maximum amount of nitrogen required : 99\n",
                  "----------------------------------------------\n",
                  "Statistics for Phosphorus\n",
                  "Minimum amount of phosphorus required : 35\n",
                  "average amount of phosphorus required : 47.58\n",
                  "Maximum amount of phosphorus required : 60\n",
                  "----------------------------------------------\n",
                  "Statistics for Potassium\n",
                  "Minimum amount of Potassium required : 35\n",
                  "average amount of Potassium required : 39.87\n",
                  "Maximum amount of Potassium required : 45\n",
                  "----------------------------------------------\n",
                  "Statistics for Temperature\n",
                  "Minimum amount of Temperature required :20.05\n",
                  "average amount of Temperature required :23.69\n",
                  "Maximum amount of Temperature required :26.93\n",
                  "----------------------------------------------\n",
                  "Statistics for Humidity\n",
                  "Minimum Humidity required :80.12\n",
                  "average Humidity required :82.27\n",
                  "Maximum Humidity required :84.97\n",
                  "----------------------------------------------\n",
                  "Statistics for ph\n",
                  "Minimum PH required :5.01\n",
                  "average PH required :6.43\n",
                  "Maximum PH required :7.87\n",
                  "----------------------------------------------\n",
                  "Statistics for rainfall\n",
                  "Minimum rainfall required :182.56\n",
                  "average rainfall required :236.18\n",
                  "Maximum rainfall required :298.56\n"
                ]
              }
            ]
          }
        },
        "df2b7f084e6f4f688902cb8134bd001a": {
          "model_module": "@jupyter-widgets/base",
          "model_name": "LayoutModel",
          "model_module_version": "1.2.0",
          "state": {
            "_model_module": "@jupyter-widgets/base",
            "_model_module_version": "1.2.0",
            "_model_name": "LayoutModel",
            "_view_count": null,
            "_view_module": "@jupyter-widgets/base",
            "_view_module_version": "1.2.0",
            "_view_name": "LayoutView",
            "align_content": null,
            "align_items": null,
            "align_self": null,
            "border": null,
            "bottom": null,
            "display": null,
            "flex": null,
            "flex_flow": null,
            "grid_area": null,
            "grid_auto_columns": null,
            "grid_auto_flow": null,
            "grid_auto_rows": null,
            "grid_column": null,
            "grid_gap": null,
            "grid_row": null,
            "grid_template_areas": null,
            "grid_template_columns": null,
            "grid_template_rows": null,
            "height": null,
            "justify_content": null,
            "justify_items": null,
            "left": null,
            "margin": null,
            "max_height": null,
            "max_width": null,
            "min_height": null,
            "min_width": null,
            "object_fit": null,
            "object_position": null,
            "order": null,
            "overflow": null,
            "overflow_x": null,
            "overflow_y": null,
            "padding": null,
            "right": null,
            "top": null,
            "visibility": null,
            "width": null
          }
        },
        "c78cb36d0d7f4443b5a4f6cf435ea1f3": {
          "model_module": "@jupyter-widgets/base",
          "model_name": "LayoutModel",
          "model_module_version": "1.2.0",
          "state": {
            "_model_module": "@jupyter-widgets/base",
            "_model_module_version": "1.2.0",
            "_model_name": "LayoutModel",
            "_view_count": null,
            "_view_module": "@jupyter-widgets/base",
            "_view_module_version": "1.2.0",
            "_view_name": "LayoutView",
            "align_content": null,
            "align_items": null,
            "align_self": null,
            "border": null,
            "bottom": null,
            "display": null,
            "flex": null,
            "flex_flow": null,
            "grid_area": null,
            "grid_auto_columns": null,
            "grid_auto_flow": null,
            "grid_auto_rows": null,
            "grid_column": null,
            "grid_gap": null,
            "grid_row": null,
            "grid_template_areas": null,
            "grid_template_columns": null,
            "grid_template_rows": null,
            "height": null,
            "justify_content": null,
            "justify_items": null,
            "left": null,
            "margin": null,
            "max_height": null,
            "max_width": null,
            "min_height": null,
            "min_width": null,
            "object_fit": null,
            "object_position": null,
            "order": null,
            "overflow": null,
            "overflow_x": null,
            "overflow_y": null,
            "padding": null,
            "right": null,
            "top": null,
            "visibility": null,
            "width": null
          }
        },
        "ba0aa30018c54b97ab4fa3e4fdd9c7c4": {
          "model_module": "@jupyter-widgets/controls",
          "model_name": "DescriptionStyleModel",
          "model_module_version": "1.5.0",
          "state": {
            "_model_module": "@jupyter-widgets/controls",
            "_model_module_version": "1.5.0",
            "_model_name": "DescriptionStyleModel",
            "_view_count": null,
            "_view_module": "@jupyter-widgets/base",
            "_view_module_version": "1.2.0",
            "_view_name": "StyleView",
            "description_width": ""
          }
        },
        "5b39cebb2ff74e4fb1e18e05ff09973a": {
          "model_module": "@jupyter-widgets/base",
          "model_name": "LayoutModel",
          "model_module_version": "1.2.0",
          "state": {
            "_model_module": "@jupyter-widgets/base",
            "_model_module_version": "1.2.0",
            "_model_name": "LayoutModel",
            "_view_count": null,
            "_view_module": "@jupyter-widgets/base",
            "_view_module_version": "1.2.0",
            "_view_name": "LayoutView",
            "align_content": null,
            "align_items": null,
            "align_self": null,
            "border": null,
            "bottom": null,
            "display": null,
            "flex": null,
            "flex_flow": null,
            "grid_area": null,
            "grid_auto_columns": null,
            "grid_auto_flow": null,
            "grid_auto_rows": null,
            "grid_column": null,
            "grid_gap": null,
            "grid_row": null,
            "grid_template_areas": null,
            "grid_template_columns": null,
            "grid_template_rows": null,
            "height": null,
            "justify_content": null,
            "justify_items": null,
            "left": null,
            "margin": null,
            "max_height": null,
            "max_width": null,
            "min_height": null,
            "min_width": null,
            "object_fit": null,
            "object_position": null,
            "order": null,
            "overflow": null,
            "overflow_x": null,
            "overflow_y": null,
            "padding": null,
            "right": null,
            "top": null,
            "visibility": null,
            "width": null
          }
        },
        "4644906ed08f4ecd9c29883e028efc5e": {
          "model_module": "@jupyter-widgets/controls",
          "model_name": "VBoxModel",
          "model_module_version": "1.5.0",
          "state": {
            "_dom_classes": [
              "widget-interact"
            ],
            "_model_module": "@jupyter-widgets/controls",
            "_model_module_version": "1.5.0",
            "_model_name": "VBoxModel",
            "_view_count": null,
            "_view_module": "@jupyter-widgets/controls",
            "_view_module_version": "1.5.0",
            "_view_name": "VBoxView",
            "box_style": "",
            "children": [
              "IPY_MODEL_3c2e96c2b8ee4b7d81c516e7dc8cfd3f",
              "IPY_MODEL_dc11195e742a4eb1ae0ae7fcb0f7429d"
            ],
            "layout": "IPY_MODEL_eac5cf4e5e714cfaa5f7d0d83553a115"
          }
        },
        "3c2e96c2b8ee4b7d81c516e7dc8cfd3f": {
          "model_module": "@jupyter-widgets/controls",
          "model_name": "DropdownModel",
          "model_module_version": "1.5.0",
          "state": {
            "_dom_classes": [],
            "_model_module": "@jupyter-widgets/controls",
            "_model_module_version": "1.5.0",
            "_model_name": "DropdownModel",
            "_options_labels": [
              "N",
              "P",
              "K",
              "temperature",
              "ph",
              "humidity",
              "rainfall"
            ],
            "_view_count": null,
            "_view_module": "@jupyter-widgets/controls",
            "_view_module_version": "1.5.0",
            "_view_name": "DropdownView",
            "description": "conditions",
            "description_tooltip": null,
            "disabled": false,
            "index": 0,
            "layout": "IPY_MODEL_b4b75e164a2446c1847182938063ebc7",
            "style": "IPY_MODEL_2bf73485e37442f880adabf26b678cd5"
          }
        },
        "dc11195e742a4eb1ae0ae7fcb0f7429d": {
          "model_module": "@jupyter-widgets/output",
          "model_name": "OutputModel",
          "model_module_version": "1.0.0",
          "state": {
            "_dom_classes": [],
            "_model_module": "@jupyter-widgets/output",
            "_model_module_version": "1.0.0",
            "_model_name": "OutputModel",
            "_view_count": null,
            "_view_module": "@jupyter-widgets/output",
            "_view_module_version": "1.0.0",
            "_view_name": "OutputView",
            "layout": "IPY_MODEL_56604ad041e84db1bf46ff39d042c8af",
            "msg_id": "",
            "outputs": [
              {
                "output_type": "stream",
                "name": "stdout",
                "text": [
                  "Average Value for N is 50.55\n",
                  "------------------------------------------\n",
                  "Rice : 79.89\n",
                  "Black Grams: 40.02\n",
                  "Banana : 100.23\n",
                  "Jute : 78.40\n",
                  "Coconut : 21.98\n",
                  "Apple : 20.80\n",
                  "Papaya : 49.88\n",
                  "Muskmelon : 100.32\n",
                  "Grapes : 23.18\n",
                  "Watermelon : 99.42\n",
                  "Kidney Beans: 20.75\n",
                  "Mung Beans: 20.99\n",
                  "Oranges : 19.58\n",
                  "Chick Peas : 40.09\n",
                  "Lentils : 18.77\n",
                  "Cotton : 117.77\n",
                  "Maize : 77.76"
                ]
              },
              {
                "output_type": "stream",
                "name": "stdout",
                "text": [
                  "\n",
                  "Moth Beans : 21.44\n",
                  "Pigeon Peas : 20.73\n",
                  "Mango : 20.07\n",
                  "Pomegranate : 18.87\n",
                  "Coffee: 101.20\n"
                ]
              }
            ]
          }
        },
        "eac5cf4e5e714cfaa5f7d0d83553a115": {
          "model_module": "@jupyter-widgets/base",
          "model_name": "LayoutModel",
          "model_module_version": "1.2.0",
          "state": {
            "_model_module": "@jupyter-widgets/base",
            "_model_module_version": "1.2.0",
            "_model_name": "LayoutModel",
            "_view_count": null,
            "_view_module": "@jupyter-widgets/base",
            "_view_module_version": "1.2.0",
            "_view_name": "LayoutView",
            "align_content": null,
            "align_items": null,
            "align_self": null,
            "border": null,
            "bottom": null,
            "display": null,
            "flex": null,
            "flex_flow": null,
            "grid_area": null,
            "grid_auto_columns": null,
            "grid_auto_flow": null,
            "grid_auto_rows": null,
            "grid_column": null,
            "grid_gap": null,
            "grid_row": null,
            "grid_template_areas": null,
            "grid_template_columns": null,
            "grid_template_rows": null,
            "height": null,
            "justify_content": null,
            "justify_items": null,
            "left": null,
            "margin": null,
            "max_height": null,
            "max_width": null,
            "min_height": null,
            "min_width": null,
            "object_fit": null,
            "object_position": null,
            "order": null,
            "overflow": null,
            "overflow_x": null,
            "overflow_y": null,
            "padding": null,
            "right": null,
            "top": null,
            "visibility": null,
            "width": null
          }
        },
        "b4b75e164a2446c1847182938063ebc7": {
          "model_module": "@jupyter-widgets/base",
          "model_name": "LayoutModel",
          "model_module_version": "1.2.0",
          "state": {
            "_model_module": "@jupyter-widgets/base",
            "_model_module_version": "1.2.0",
            "_model_name": "LayoutModel",
            "_view_count": null,
            "_view_module": "@jupyter-widgets/base",
            "_view_module_version": "1.2.0",
            "_view_name": "LayoutView",
            "align_content": null,
            "align_items": null,
            "align_self": null,
            "border": null,
            "bottom": null,
            "display": null,
            "flex": null,
            "flex_flow": null,
            "grid_area": null,
            "grid_auto_columns": null,
            "grid_auto_flow": null,
            "grid_auto_rows": null,
            "grid_column": null,
            "grid_gap": null,
            "grid_row": null,
            "grid_template_areas": null,
            "grid_template_columns": null,
            "grid_template_rows": null,
            "height": null,
            "justify_content": null,
            "justify_items": null,
            "left": null,
            "margin": null,
            "max_height": null,
            "max_width": null,
            "min_height": null,
            "min_width": null,
            "object_fit": null,
            "object_position": null,
            "order": null,
            "overflow": null,
            "overflow_x": null,
            "overflow_y": null,
            "padding": null,
            "right": null,
            "top": null,
            "visibility": null,
            "width": null
          }
        },
        "2bf73485e37442f880adabf26b678cd5": {
          "model_module": "@jupyter-widgets/controls",
          "model_name": "DescriptionStyleModel",
          "model_module_version": "1.5.0",
          "state": {
            "_model_module": "@jupyter-widgets/controls",
            "_model_module_version": "1.5.0",
            "_model_name": "DescriptionStyleModel",
            "_view_count": null,
            "_view_module": "@jupyter-widgets/base",
            "_view_module_version": "1.2.0",
            "_view_name": "StyleView",
            "description_width": ""
          }
        },
        "56604ad041e84db1bf46ff39d042c8af": {
          "model_module": "@jupyter-widgets/base",
          "model_name": "LayoutModel",
          "model_module_version": "1.2.0",
          "state": {
            "_model_module": "@jupyter-widgets/base",
            "_model_module_version": "1.2.0",
            "_model_name": "LayoutModel",
            "_view_count": null,
            "_view_module": "@jupyter-widgets/base",
            "_view_module_version": "1.2.0",
            "_view_name": "LayoutView",
            "align_content": null,
            "align_items": null,
            "align_self": null,
            "border": null,
            "bottom": null,
            "display": null,
            "flex": null,
            "flex_flow": null,
            "grid_area": null,
            "grid_auto_columns": null,
            "grid_auto_flow": null,
            "grid_auto_rows": null,
            "grid_column": null,
            "grid_gap": null,
            "grid_row": null,
            "grid_template_areas": null,
            "grid_template_columns": null,
            "grid_template_rows": null,
            "height": null,
            "justify_content": null,
            "justify_items": null,
            "left": null,
            "margin": null,
            "max_height": null,
            "max_width": null,
            "min_height": null,
            "min_width": null,
            "object_fit": null,
            "object_position": null,
            "order": null,
            "overflow": null,
            "overflow_x": null,
            "overflow_y": null,
            "padding": null,
            "right": null,
            "top": null,
            "visibility": null,
            "width": null
          }
        },
        "0b0942d2e3404b898c689a863d005ccb": {
          "model_module": "@jupyter-widgets/controls",
          "model_name": "VBoxModel",
          "model_module_version": "1.5.0",
          "state": {
            "_dom_classes": [
              "widget-interact"
            ],
            "_model_module": "@jupyter-widgets/controls",
            "_model_module_version": "1.5.0",
            "_model_name": "VBoxModel",
            "_view_count": null,
            "_view_module": "@jupyter-widgets/controls",
            "_view_module_version": "1.5.0",
            "_view_name": "VBoxView",
            "box_style": "",
            "children": [
              "IPY_MODEL_bb36f9752295402aa564fe323c6f7f05",
              "IPY_MODEL_a6b020e518a6403bb2bed6aa9ed4ba1a"
            ],
            "layout": "IPY_MODEL_7626f0bdbacf4cc1a5878cee3036dd80"
          }
        },
        "bb36f9752295402aa564fe323c6f7f05": {
          "model_module": "@jupyter-widgets/controls",
          "model_name": "DropdownModel",
          "model_module_version": "1.5.0",
          "state": {
            "_dom_classes": [],
            "_model_module": "@jupyter-widgets/controls",
            "_model_module_version": "1.5.0",
            "_model_name": "DropdownModel",
            "_options_labels": [
              "N",
              "P",
              "K",
              "temperature",
              "ph",
              "humidity",
              "rainfall"
            ],
            "_view_count": null,
            "_view_module": "@jupyter-widgets/controls",
            "_view_module_version": "1.5.0",
            "_view_name": "DropdownView",
            "description": "conditions",
            "description_tooltip": null,
            "disabled": false,
            "index": 0,
            "layout": "IPY_MODEL_6dc692982d0244198864bea6b7abdbc9",
            "style": "IPY_MODEL_833667d1b15048358adb9b267b3e3cf4"
          }
        },
        "a6b020e518a6403bb2bed6aa9ed4ba1a": {
          "model_module": "@jupyter-widgets/output",
          "model_name": "OutputModel",
          "model_module_version": "1.0.0",
          "state": {
            "_dom_classes": [],
            "_model_module": "@jupyter-widgets/output",
            "_model_module_version": "1.0.0",
            "_model_name": "OutputModel",
            "_view_count": null,
            "_view_module": "@jupyter-widgets/output",
            "_view_module_version": "1.0.0",
            "_view_name": "OutputView",
            "layout": "IPY_MODEL_7d5849c0c09248cc9c42d24691909195",
            "msg_id": "",
            "outputs": [
              {
                "output_type": "stream",
                "name": "stdout",
                "text": [
                  "crops which require greater then average N \n"
                ]
              },
              {
                "output_type": "stream",
                "name": "stdout",
                "text": [
                  "\n",
                  "['rice' 'maize' 'chickpea' 'blackgram' 'banana' 'watermelon' 'muskmelon'\n",
                  " 'papaya' 'cotton' 'jute' 'coffee']\n",
                  "------------------------------------------\n",
                  "crops which require less then average N \n",
                  "\n",
                  "['chickpea' 'kidneybeans' 'pigeonpeas' 'mothbeans' 'mungbean' 'blackgram'\n",
                  " 'lentil' 'pomegranate' 'mango' 'grapes' 'apple' 'orange' 'papaya'\n",
                  " 'coconut']\n"
                ]
              }
            ]
          }
        },
        "7626f0bdbacf4cc1a5878cee3036dd80": {
          "model_module": "@jupyter-widgets/base",
          "model_name": "LayoutModel",
          "model_module_version": "1.2.0",
          "state": {
            "_model_module": "@jupyter-widgets/base",
            "_model_module_version": "1.2.0",
            "_model_name": "LayoutModel",
            "_view_count": null,
            "_view_module": "@jupyter-widgets/base",
            "_view_module_version": "1.2.0",
            "_view_name": "LayoutView",
            "align_content": null,
            "align_items": null,
            "align_self": null,
            "border": null,
            "bottom": null,
            "display": null,
            "flex": null,
            "flex_flow": null,
            "grid_area": null,
            "grid_auto_columns": null,
            "grid_auto_flow": null,
            "grid_auto_rows": null,
            "grid_column": null,
            "grid_gap": null,
            "grid_row": null,
            "grid_template_areas": null,
            "grid_template_columns": null,
            "grid_template_rows": null,
            "height": null,
            "justify_content": null,
            "justify_items": null,
            "left": null,
            "margin": null,
            "max_height": null,
            "max_width": null,
            "min_height": null,
            "min_width": null,
            "object_fit": null,
            "object_position": null,
            "order": null,
            "overflow": null,
            "overflow_x": null,
            "overflow_y": null,
            "padding": null,
            "right": null,
            "top": null,
            "visibility": null,
            "width": null
          }
        },
        "6dc692982d0244198864bea6b7abdbc9": {
          "model_module": "@jupyter-widgets/base",
          "model_name": "LayoutModel",
          "model_module_version": "1.2.0",
          "state": {
            "_model_module": "@jupyter-widgets/base",
            "_model_module_version": "1.2.0",
            "_model_name": "LayoutModel",
            "_view_count": null,
            "_view_module": "@jupyter-widgets/base",
            "_view_module_version": "1.2.0",
            "_view_name": "LayoutView",
            "align_content": null,
            "align_items": null,
            "align_self": null,
            "border": null,
            "bottom": null,
            "display": null,
            "flex": null,
            "flex_flow": null,
            "grid_area": null,
            "grid_auto_columns": null,
            "grid_auto_flow": null,
            "grid_auto_rows": null,
            "grid_column": null,
            "grid_gap": null,
            "grid_row": null,
            "grid_template_areas": null,
            "grid_template_columns": null,
            "grid_template_rows": null,
            "height": null,
            "justify_content": null,
            "justify_items": null,
            "left": null,
            "margin": null,
            "max_height": null,
            "max_width": null,
            "min_height": null,
            "min_width": null,
            "object_fit": null,
            "object_position": null,
            "order": null,
            "overflow": null,
            "overflow_x": null,
            "overflow_y": null,
            "padding": null,
            "right": null,
            "top": null,
            "visibility": null,
            "width": null
          }
        },
        "833667d1b15048358adb9b267b3e3cf4": {
          "model_module": "@jupyter-widgets/controls",
          "model_name": "DescriptionStyleModel",
          "model_module_version": "1.5.0",
          "state": {
            "_model_module": "@jupyter-widgets/controls",
            "_model_module_version": "1.5.0",
            "_model_name": "DescriptionStyleModel",
            "_view_count": null,
            "_view_module": "@jupyter-widgets/base",
            "_view_module_version": "1.2.0",
            "_view_name": "StyleView",
            "description_width": ""
          }
        },
        "7d5849c0c09248cc9c42d24691909195": {
          "model_module": "@jupyter-widgets/base",
          "model_name": "LayoutModel",
          "model_module_version": "1.2.0",
          "state": {
            "_model_module": "@jupyter-widgets/base",
            "_model_module_version": "1.2.0",
            "_model_name": "LayoutModel",
            "_view_count": null,
            "_view_module": "@jupyter-widgets/base",
            "_view_module_version": "1.2.0",
            "_view_name": "LayoutView",
            "align_content": null,
            "align_items": null,
            "align_self": null,
            "border": null,
            "bottom": null,
            "display": null,
            "flex": null,
            "flex_flow": null,
            "grid_area": null,
            "grid_auto_columns": null,
            "grid_auto_flow": null,
            "grid_auto_rows": null,
            "grid_column": null,
            "grid_gap": null,
            "grid_row": null,
            "grid_template_areas": null,
            "grid_template_columns": null,
            "grid_template_rows": null,
            "height": null,
            "justify_content": null,
            "justify_items": null,
            "left": null,
            "margin": null,
            "max_height": null,
            "max_width": null,
            "min_height": null,
            "min_width": null,
            "object_fit": null,
            "object_position": null,
            "order": null,
            "overflow": null,
            "overflow_x": null,
            "overflow_y": null,
            "padding": null,
            "right": null,
            "top": null,
            "visibility": null,
            "width": null
          }
        }
      }
    }
  },
  "cells": [
    {
      "cell_type": "markdown",
      "metadata": {
        "id": "view-in-github",
        "colab_type": "text"
      },
      "source": [
        "<a href=\"https://colab.research.google.com/github/GovindRegar/Crop-and-Fertilizer-Recommendation/blob/main/Agricultural_production_optimization.ipynb\" target=\"_parent\"><img src=\"https://colab.research.google.com/assets/colab-badge.svg\" alt=\"Open In Colab\"/></a>"
      ]
    },
    {
      "cell_type": "code",
      "source": [
        "# for data manupulation\n",
        "import pandas as pd\n",
        "import numpy as np\n",
        "# for data visualization\n",
        "import matplotlib.pyplot as plt\n",
        "import seaborn as sn\n",
        "from sklearn.metrics import classification_report\n",
        "# for the interaction with the data\n",
        "from ipywidgets import interact"
      ],
      "metadata": {
        "id": "97BKDm9-zY2Z"
      },
      "execution_count": 72,
      "outputs": []
    },
    {
      "cell_type": "code",
      "source": [
        "data=pd.read_csv('data.csv')"
      ],
      "metadata": {
        "id": "UCLOZyW2zaFC"
      },
      "execution_count": 73,
      "outputs": []
    },
    {
      "cell_type": "code",
      "source": [
        "print ('shape of the data =',data.shape)"
      ],
      "metadata": {
        "colab": {
          "base_uri": "https://localhost:8080/"
        },
        "id": "NCOWgN-w01mM",
        "outputId": "a35c02d4-5a2e-4208-b8cb-de4781f078b5"
      },
      "execution_count": 74,
      "outputs": [
        {
          "output_type": "stream",
          "name": "stdout",
          "text": [
            "shape of the data = (2200, 8)\n"
          ]
        }
      ]
    },
    {
      "cell_type": "code",
      "source": [
        "data.isnull().sum()"
      ],
      "metadata": {
        "colab": {
          "base_uri": "https://localhost:8080/"
        },
        "id": "EQgLiUne2f6a",
        "outputId": "dba5e549-a051-4a2f-e011-03c67ff15eed"
      },
      "execution_count": 75,
      "outputs": [
        {
          "output_type": "execute_result",
          "data": {
            "text/plain": [
              "N              0\n",
              "P              0\n",
              "K              0\n",
              "temperature    0\n",
              "humidity       0\n",
              "ph             0\n",
              "rainfall       0\n",
              "label          0\n",
              "dtype: int64"
            ]
          },
          "metadata": {},
          "execution_count": 75
        }
      ]
    },
    {
      "cell_type": "code",
      "source": [
        "data['label'].value_counts()"
      ],
      "metadata": {
        "colab": {
          "base_uri": "https://localhost:8080/"
        },
        "id": "wEQSmqnQ32VZ",
        "outputId": "8c6d8362-b486-457d-9649-e491a4c323ff"
      },
      "execution_count": 76,
      "outputs": [
        {
          "output_type": "execute_result",
          "data": {
            "text/plain": [
              "rice           100\n",
              "maize          100\n",
              "jute           100\n",
              "cotton         100\n",
              "coconut        100\n",
              "papaya         100\n",
              "orange         100\n",
              "apple          100\n",
              "muskmelon      100\n",
              "watermelon     100\n",
              "grapes         100\n",
              "mango          100\n",
              "banana         100\n",
              "pomegranate    100\n",
              "lentil         100\n",
              "blackgram      100\n",
              "mungbean       100\n",
              "mothbeans      100\n",
              "pigeonpeas     100\n",
              "kidneybeans    100\n",
              "chickpea       100\n",
              "coffee         100\n",
              "Name: label, dtype: int64"
            ]
          },
          "metadata": {},
          "execution_count": 76
        }
      ]
    },
    {
      "cell_type": "code",
      "source": [
        "print('Average % of Nitrogen,Phosphorus and Potassium in soil :  {0:.2f}, {1:.2f}, {2:.2f} % respectively.'.format(data['N'].mean(),data['P'].mean(),data['K'].mean()))\n",
        "print('Average of Temprature in  °C is {0:.2f}'.format(data['temperature'].mean()))\n",
        "print('Average % of Humidity of soil is {0:.2f} %'.format(data['humidity'].mean()))\n",
        "print('Average PH of soil is {0:.2f}' .format(data['ph'].mean()))\n",
        "print('Average rainfall in mm {0:.2f} '.format(data['rainfall'].mean()))"
      ],
      "metadata": {
        "colab": {
          "base_uri": "https://localhost:8080/"
        },
        "id": "Nnq0O4kzVEaA",
        "outputId": "2fb6889b-0921-4dcd-a9a6-7e5a972890bb"
      },
      "execution_count": 77,
      "outputs": [
        {
          "output_type": "stream",
          "name": "stdout",
          "text": [
            "Average % of Nitrogen,Phosphorus and Potassium in soil :  50.55, 53.36, 48.15 % respectively.\n",
            "Average of Temprature in  °C is 25.62\n",
            "Average % of Humidity of soil is 71.48 %\n",
            "Average PH of soil is 6.47\n",
            "Average rainfall in mm 103.46 \n"
          ]
        }
      ]
    },
    {
      "cell_type": "code",
      "source": [
        "@interact\n",
        "\n",
        "def summary(crops = list(data['label'].value_counts().index)):\n",
        "    x = data[data['label'] == crops]\n",
        "    print(\"---------------------------------------------\")\n",
        "    print(\"Statistics for nitrogen\")\n",
        "    print(\"Minimum amount of nitrogen required :\", x['N'].min())\n",
        "    print(\"average amount of nitrogen required :\", x['N'].mean())\n",
        "    print(\"Maximum amount of nitrogen required :\", x['N'].max())\n",
        "    \n",
        "    print(\"----------------------------------------------\")\n",
        "    print(\"Statistics for Phosphorus\")\n",
        "    print(\"Minimum amount of phosphorus required :\", x['P'].min())\n",
        "    print(\"average amount of phosphorus required :\", x['P'].mean())\n",
        "    print(\"Maximum amount of phosphorus required :\", x['P'].max())\n",
        "    \n",
        "    print(\"----------------------------------------------\")\n",
        "    print(\"Statistics for Potassium\")\n",
        "    print(\"Minimum amount of Potassium required :\", x['K'].min())\n",
        "    print(\"average amount of Potassium required :\", x['K'].mean())\n",
        "    print(\"Maximum amount of Potassium required :\", x['K'].max())\n",
        "\n",
        "    print(\"----------------------------------------------\")\n",
        "    print(\"Statistics for Temperature\")\n",
        "    print(\"Minimum amount of Temperature required :{0:.2f}\".format(x['temperature'].min()))\n",
        "    print(\"average amount of Temperature required :{0:.2f}\".format(x['temperature'].mean()))\n",
        "    print(\"Maximum amount of Temperature required :{0:.2f}\".format(x['temperature'].max()))\n",
        "\n",
        "    print(\"----------------------------------------------\")\n",
        "    print(\"Statistics for Humidity\")\n",
        "    print(\"Minimum Humidity required :{0:.2f}\".format(x['humidity'].min()))\n",
        "    print(\"average Humidity required :{0:.2f}\".format(x['humidity'].mean()))\n",
        "    print(\"Maximum Humidity required :{0:.2f}\".format(x['humidity'].max()))    \n",
        "    \n",
        "    print(\"----------------------------------------------\")\n",
        "    print(\"Statistics for ph\")\n",
        "    print(\"Minimum PH required :{0:.2f}\".format(x['ph'].min()))\n",
        "    print(\"average PH required :{0:.2f}\".format(x['ph'].mean()))\n",
        "    print(\"Maximum PH required :{0:.2f}\".format(x['ph'].max()))\n",
        "     \n",
        "    print(\"----------------------------------------------\")\n",
        "    print(\"Statistics for rainfall\")\n",
        "    print(\"Minimum rainfall required :{0:.2f}\".format(x['rainfall'].min()))\n",
        "    print(\"average rainfall required :{0:.2f}\".format(x['rainfall'].mean()))\n",
        "    print(\"Maximum rainfall required :{0:.2f}\".format(x['rainfall'].max()))\n"
      ],
      "metadata": {
        "colab": {
          "base_uri": "https://localhost:8080/",
          "height": 657,
          "referenced_widgets": [
            "b3618cbfdca243bf9cb0b1e9b1d0bc5a",
            "e4c883239b7a4567b77187e716be9074",
            "7dba3231ac40403597e1f4b9feac3d2b",
            "df2b7f084e6f4f688902cb8134bd001a",
            "c78cb36d0d7f4443b5a4f6cf435ea1f3",
            "ba0aa30018c54b97ab4fa3e4fdd9c7c4",
            "5b39cebb2ff74e4fb1e18e05ff09973a"
          ]
        },
        "id": "-izFuZBdrLBC",
        "outputId": "568a2658-e484-478b-c2ee-37236b44061c"
      },
      "execution_count": 78,
      "outputs": [
        {
          "output_type": "display_data",
          "data": {
            "text/plain": [
              "interactive(children=(Dropdown(description='crops', options=('rice', 'maize', 'jute', 'cotton', 'coconut', 'pa…"
            ],
            "application/vnd.jupyter.widget-view+json": {
              "version_major": 2,
              "version_minor": 0,
              "model_id": "b3618cbfdca243bf9cb0b1e9b1d0bc5a"
            }
          },
          "metadata": {}
        }
      ]
    },
    {
      "cell_type": "code",
      "source": [
        "@interact \n",
        "def compare(conditions =['N','P','K','temperature','ph','humidity', 'rainfall']):\n",
        "    print(\"Average Value for\", conditions, \"is {0:.2f}\".format(data[conditions].mean())) \n",
        "    print(\"------------------------------------------\")\n",
        "    print(\"Rice : {0:.2f}\".format(data[(data['label'] == 'rice')][conditions].mean())) \n",
        "    print(\"Black Grams: {0:.2f}\".format(data[(data[ 'label'] == 'blackgram')][conditions].mean())) \n",
        "    print(\"Banana : {0:.2f}\".format(data[(data[ 'label'] == 'banana')][conditions].mean())) \n",
        "    print(\"Jute : {0:.2f}\".format(data[(data[ 'label'] == 'jute')][conditions].mean())) \n",
        "    print(\"Coconut : {0:.2f}\".format(data[(data['label'] == 'coconut')][conditions].mean())) \n",
        "    print(\"Apple : {0:.2f}\".format(data[(data['label'] == 'apple')][conditions].mean()))\n",
        "    print(\"Papaya : {0:.2f}\".format(data[(data['label'] == 'papaya')][conditions].mean())) \n",
        "    print(\"Muskmelon : {0:.2f}\".format(data[(data['label'] =='muskmelon')][conditions].mean())) \n",
        "    print(\"Grapes : {0:.2f}\".format(data[(data['label'] == 'grapes')][conditions].mean())) \n",
        "    print(\"Watermelon : {0:.2f}\".format(data[(data['label'] == 'watermelon')][conditions].mean())) \n",
        "    print(\"Kidney Beans: {0:.2f}\".format(data[(data['label'] == 'kidneybeans')][conditions].mean())) \n",
        "    print(\"Mung Beans: {0:.2f}\".format(data[(data['label'] == 'mungbean')][conditions].mean())) \n",
        "    print(\"Oranges : {0:.2f}\".format(data[(data['label'] == 'orange')][conditions].mean()))\n",
        "    print(\"Chick Peas : {0:.2f}\".format(data[(data['label'] == 'chickpea')][conditions].mean())) \n",
        "    print(\"Lentils : {0:.2f}\".format(data[(data['label'] == 'lentil')][conditions].mean())) \n",
        "    print(\"Cotton : {0:.2f}\".format(data[(data['label'] == 'cotton')][conditions].mean())) \n",
        "    print(\"Maize : {0:.2f}\".format(data[(data['label'] == 'maize')][conditions].mean())) \n",
        "    print(\"Moth Beans : {0:.2f}\".format(data[(data['label'] == 'mothbeans')][conditions].mean())) \n",
        "    print(\"Pigeon Peas : {0:.2f}\".format(data[(data['label'] == 'pigeonpeas')][conditions].mean())) \n",
        "    print(\"Mango : {0:.2f}\".format(data[(data['label'] == 'mango')][conditions].mean())) \n",
        "    print(\"Pomegranate : {0:.2f}\".format(data[(data[ 'label'] =='pomegranate')][conditions].mean()))\n",
        "    print(\"Coffee: {0:.2f}\".format(data[(data['label'] == 'coffee')][conditions].mean())) "
      ],
      "metadata": {
        "colab": {
          "base_uri": "https://localhost:8080/",
          "height": 483,
          "referenced_widgets": [
            "4644906ed08f4ecd9c29883e028efc5e",
            "3c2e96c2b8ee4b7d81c516e7dc8cfd3f",
            "dc11195e742a4eb1ae0ae7fcb0f7429d",
            "eac5cf4e5e714cfaa5f7d0d83553a115",
            "b4b75e164a2446c1847182938063ebc7",
            "2bf73485e37442f880adabf26b678cd5",
            "56604ad041e84db1bf46ff39d042c8af"
          ]
        },
        "id": "JCyFg70yvYQf",
        "outputId": "f1571c02-212b-444a-ab75-f710962fa2bd"
      },
      "execution_count": 79,
      "outputs": [
        {
          "output_type": "display_data",
          "data": {
            "text/plain": [
              "interactive(children=(Dropdown(description='conditions', options=('N', 'P', 'K', 'temperature', 'ph', 'humidit…"
            ],
            "application/vnd.jupyter.widget-view+json": {
              "version_major": 2,
              "version_minor": 0,
              "model_id": "4644906ed08f4ecd9c29883e028efc5e"
            }
          },
          "metadata": {}
        }
      ]
    },
    {
      "cell_type": "code",
      "source": [
        "@interact \n",
        "def compare(conditions =['N','P','K','temperature','ph','humidity', 'rainfall']):\n",
        "  print('crops which require greater then average' , conditions ,'\\n')\n",
        "  print(data[data[conditions]>data[conditions].mean()]['label'].unique())\n",
        "  print(\"------------------------------------------\")\n",
        "  print('crops which require less then average' , conditions ,'\\n')\n",
        "  print(data[data[conditions]<data[conditions].mean()]['label'].unique())\n"
      ],
      "metadata": {
        "colab": {
          "base_uri": "https://localhost:8080/",
          "height": 223,
          "referenced_widgets": [
            "0b0942d2e3404b898c689a863d005ccb",
            "bb36f9752295402aa564fe323c6f7f05",
            "a6b020e518a6403bb2bed6aa9ed4ba1a",
            "7626f0bdbacf4cc1a5878cee3036dd80",
            "6dc692982d0244198864bea6b7abdbc9",
            "833667d1b15048358adb9b267b3e3cf4",
            "7d5849c0c09248cc9c42d24691909195"
          ]
        },
        "id": "TTw7fQ3Fdcwr",
        "outputId": "b8d45588-ac86-48a1-f49c-a409983d4405"
      },
      "execution_count": 80,
      "outputs": [
        {
          "output_type": "display_data",
          "data": {
            "text/plain": [
              "interactive(children=(Dropdown(description='conditions', options=('N', 'P', 'K', 'temperature', 'ph', 'humidit…"
            ],
            "application/vnd.jupyter.widget-view+json": {
              "version_major": 2,
              "version_minor": 0,
              "model_id": "0b0942d2e3404b898c689a863d005ccb"
            }
          },
          "metadata": {}
        }
      ]
    },
    {
      "cell_type": "code",
      "source": [
        "\n",
        "figure, axes = plt.subplots(2,4,figsize=(16,8))\n",
        "figure.suptitle('Distribution for agricultural conditions')\n",
        "\n",
        "\n",
        "plt.subplot(2,4,1)\n",
        "sn.distplot(data['N'],color='red')\n",
        "plt.xlabel('Nitrogen %',fontsize=12,color='black')\n",
        "plt.grid()\n",
        "\n",
        "plt.subplot(2,4,2)\n",
        "sn.distplot(data['P'],color='blue')\n",
        "plt.xlabel('Phosphorus %',fontsize=12,color='black')\n",
        "plt.grid()\n",
        "\n",
        "plt.subplot(2,4,3)\n",
        "sn.distplot(data['K'],color='orange')\n",
        "plt.xlabel('Potassium %',fontsize=12,color='black')\n",
        "plt.grid()\n",
        "\n",
        "plt.subplot(2,4,4)\n",
        "sn.distplot(data['temperature'],color='purple')\n",
        "plt.xlabel('temperature %',fontsize=12,color='black')\n",
        "plt.grid()\n",
        "\n",
        "plt.subplot(2,4,5)\n",
        "sn.distplot(data['humidity'],color='green')\n",
        "plt.xlabel('Humidity % ',fontsize=12,color='black')\n",
        "plt.grid()\n",
        "\n",
        "plt.subplot(2,4,6)\n",
        "sn.distplot(data['ph'],color='brown')\n",
        "plt.xlabel('PH ',fontsize=12,color='black')\n",
        "plt.grid()\n",
        "\n",
        "plt.subplot(2,4,7)\n",
        "sn.distplot(data['rainfall'],color='grey')\n",
        "plt.xlabel('Rainfall',fontsize=12,color='black')\n",
        "plt.grid()\n"
      ],
      "metadata": {
        "colab": {
          "base_uri": "https://localhost:8080/",
          "height": 820
        },
        "id": "2JBrPYjp0kPw",
        "outputId": "acf12276-5837-46a4-f24d-980952677a0d"
      },
      "execution_count": 81,
      "outputs": [
        {
          "output_type": "stream",
          "name": "stderr",
          "text": [
            "/usr/local/lib/python3.7/dist-packages/seaborn/distributions.py:2619: FutureWarning: `distplot` is a deprecated function and will be removed in a future version. Please adapt your code to use either `displot` (a figure-level function with similar flexibility) or `histplot` (an axes-level function for histograms).\n",
            "  warnings.warn(msg, FutureWarning)\n",
            "/usr/local/lib/python3.7/dist-packages/seaborn/distributions.py:2619: FutureWarning: `distplot` is a deprecated function and will be removed in a future version. Please adapt your code to use either `displot` (a figure-level function with similar flexibility) or `histplot` (an axes-level function for histograms).\n",
            "  warnings.warn(msg, FutureWarning)\n",
            "/usr/local/lib/python3.7/dist-packages/seaborn/distributions.py:2619: FutureWarning: `distplot` is a deprecated function and will be removed in a future version. Please adapt your code to use either `displot` (a figure-level function with similar flexibility) or `histplot` (an axes-level function for histograms).\n",
            "  warnings.warn(msg, FutureWarning)\n",
            "/usr/local/lib/python3.7/dist-packages/seaborn/distributions.py:2619: FutureWarning: `distplot` is a deprecated function and will be removed in a future version. Please adapt your code to use either `displot` (a figure-level function with similar flexibility) or `histplot` (an axes-level function for histograms).\n",
            "  warnings.warn(msg, FutureWarning)\n",
            "/usr/local/lib/python3.7/dist-packages/seaborn/distributions.py:2619: FutureWarning: `distplot` is a deprecated function and will be removed in a future version. Please adapt your code to use either `displot` (a figure-level function with similar flexibility) or `histplot` (an axes-level function for histograms).\n",
            "  warnings.warn(msg, FutureWarning)\n",
            "/usr/local/lib/python3.7/dist-packages/seaborn/distributions.py:2619: FutureWarning: `distplot` is a deprecated function and will be removed in a future version. Please adapt your code to use either `displot` (a figure-level function with similar flexibility) or `histplot` (an axes-level function for histograms).\n",
            "  warnings.warn(msg, FutureWarning)\n",
            "/usr/local/lib/python3.7/dist-packages/seaborn/distributions.py:2619: FutureWarning: `distplot` is a deprecated function and will be removed in a future version. Please adapt your code to use either `displot` (a figure-level function with similar flexibility) or `histplot` (an axes-level function for histograms).\n",
            "  warnings.warn(msg, FutureWarning)\n"
          ]
        },
        {
          "output_type": "display_data",
          "data": {
            "text/plain": [
              "<Figure size 1152x576 with 8 Axes>"
            ],
            "image/png": "[encoded data removed]"
          },
          "metadata": {
            "needs_background": "light"
          }
        }
      ]
    },
    {
      "cell_type": "code",
      "source": [
        "print('Some Interesting pattern')\n",
        "print('--------------------------------------------')\n",
        "print('crops which require high % of Nitrogen in Soil :',data[data['N']>120]['label'].unique())\n",
        "print('crops which require high % of Phosphorus in Soil :',data[data['P']>100]['label'].unique())\n",
        "print('crops which require high % of Potassium in Soil :',data[data['K']>200]['label'].unique())\n",
        "print('crops which require high rainfall :',data[data['rainfall']>200]['label'].unique())\n",
        "print('crops which require high temperature:',data[data['temperature']>40]['label'].unique())\n",
        "print('crops which require low temperature:',data[data['temperature']<10]['label'].unique())\n",
        "print('crops which require high PH:',data[data['ph']>9]['label'].unique())\n",
        "print('crops which require low ph',data[data['ph']<4]['label'].unique())\n",
        "print('crops which require low humidity:',data[data['humidity']<20]['label'].unique())"
      ],
      "metadata": {
        "colab": {
          "base_uri": "https://localhost:8080/"
        },
        "id": "VqWhQSFXDv4C",
        "outputId": "e71c1976-dd50-43ad-8a6a-c95899aab7bc"
      },
      "execution_count": 82,
      "outputs": [
        {
          "output_type": "stream",
          "name": "stdout",
          "text": [
            "Some Interesting pattern\n",
            "--------------------------------------------\n",
            "crops which require high % of Nitrogen in Soil : ['cotton']\n",
            "crops which require high % of Phosphorus in Soil : ['grapes' 'apple']\n",
            "crops which require high % of Potassium in Soil : ['grapes' 'apple']\n",
            "crops which require high rainfall : ['rice' 'papaya' 'coconut']\n",
            "crops which require high temperature: ['grapes' 'papaya']\n",
            "crops which require low temperature: ['grapes']\n",
            "crops which require high PH: ['mothbeans']\n",
            "crops which require low ph ['mothbeans']\n",
            "crops which require low humidity: ['chickpea' 'kidneybeans']\n"
          ]
        }
      ]
    },
    {
      "cell_type": "code",
      "source": [
        "print('Summer Crops')\n",
        "print(data[(data['temperature']>30) & (data['humidity']>50)]['label'].unique())\n",
        "print('\\n')\n",
        "print('Winter Crops')\n",
        "print(data[(data['temperature']<20) & (data['humidity']>30)]['label'].unique())\n",
        "print('\\n')\n",
        "print('Rainy season Crops')\n",
        "print(data[(data['rainfall']>200) & (data['humidity']>30)]['label'].unique())\n"
      ],
      "metadata": {
        "colab": {
          "base_uri": "https://localhost:8080/"
        },
        "id": "EEPgYaW_MAqn",
        "outputId": "fb9a47e3-9784-40bc-c9cb-734aea1bc8c8"
      },
      "execution_count": 83,
      "outputs": [
        {
          "output_type": "stream",
          "name": "stdout",
          "text": [
            "Summer Crops\n",
            "['pigeonpeas' 'mothbeans' 'blackgram' 'mango' 'grapes' 'orange' 'papaya']\n",
            "\n",
            "\n",
            "Winter Crops\n",
            "['maize' 'pigeonpeas' 'lentil' 'pomegranate' 'grapes' 'orange']\n",
            "\n",
            "\n",
            "Rainy season Crops\n",
            "['rice' 'papaya' 'coconut']\n"
          ]
        }
      ]
    },
    {
      "cell_type": "code",
      "source": [
        "data.head()"
      ],
      "metadata": {
        "colab": {
          "base_uri": "https://localhost:8080/",
          "height": 206
        },
        "id": "H4umaD6YTxQR",
        "outputId": "a6433d79-ca65-4a0e-c1d9-ae4c060ebd19"
      },
      "execution_count": 84,
      "outputs": [
        {
          "output_type": "execute_result",
          "data": {
            "text/plain": [
              "    N   P   K  temperature   humidity        ph    rainfall label\n",
              "0  90  42  43    20.879744  82.002744  6.502985  202.935536  rice\n",
              "1  85  58  41    21.770462  80.319644  7.038096  226.655537  rice\n",
              "2  60  55  44    23.004459  82.320763  7.840207  263.964248  rice\n",
              "3  74  35  40    26.491096  80.158363  6.980401  242.864034  rice\n",
              "4  78  42  42    20.130175  81.604873  7.628473  262.717340  rice"
            ],
            "text/html": [
              "\n",
              "  <div id=\"df-295bbf4d-e005-4823-9685-7b1dfc918585\">\n",
              "    <div class=\"colab-df-container\">\n",
              "      <div>\n",
              "<style scoped>\n",
              "    .dataframe tbody tr th:only-of-type {\n",
              "        vertical-align: middle;\n",
              "    }\n",
              "\n",
              "    .dataframe tbody tr th {\n",
              "        vertical-align: top;\n",
              "    }\n",
              "\n",
              "    .dataframe thead th {\n",
              "        text-align: right;\n",
              "    }\n",
              "</style>\n",
              "<table border=\"1\" class=\"dataframe\">\n",
              "  <thead>\n",
              "    <tr style=\"text-align: right;\">\n",
              "      <th></th>\n",
              "      <th>N</th>\n",
              "      <th>P</th>\n",
              "      <th>K</th>\n",
              "      <th>temperature</th>\n",
              "      <th>humidity</th>\n",
              "      <th>ph</th>\n",
              "      <th>rainfall</th>\n",
              "      <th>label</th>\n",
              "    </tr>\n",
              "  </thead>\n",
              "  <tbody>\n",
              "    <tr>\n",
              "      <th>0</th>\n",
              "      <td>90</td>\n",
              "      <td>42</td>\n",
              "      <td>43</td>\n",
              "      <td>20.879744</td>\n",
              "      <td>82.002744</td>\n",
              "      <td>6.502985</td>\n",
              "      <td>202.935536</td>\n",
              "      <td>rice</td>\n",
              "    </tr>\n",
              "    <tr>\n",
              "      <th>1</th>\n",
              "      <td>85</td>\n",
              "      <td>58</td>\n",
              "      <td>41</td>\n",
              "      <td>21.770462</td>\n",
              "      <td>80.319644</td>\n",
              "      <td>7.038096</td>\n",
              "      <td>226.655537</td>\n",
              "      <td>rice</td>\n",
              "    </tr>\n",
              "    <tr>\n",
              "      <th>2</th>\n",
              "      <td>60</td>\n",
              "      <td>55</td>\n",
              "      <td>44</td>\n",
              "      <td>23.004459</td>\n",
              "      <td>82.320763</td>\n",
              "      <td>7.840207</td>\n",
              "      <td>263.964248</td>\n",
              "      <td>rice</td>\n",
              "    </tr>\n",
              "    <tr>\n",
              "      <th>3</th>\n",
              "      <td>74</td>\n",
              "      <td>35</td>\n",
              "      <td>40</td>\n",
              "      <td>26.491096</td>\n",
              "      <td>80.158363</td>\n",
              "      <td>6.980401</td>\n",
              "      <td>242.864034</td>\n",
              "      <td>rice</td>\n",
              "    </tr>\n",
              "    <tr>\n",
              "      <th>4</th>\n",
              "      <td>78</td>\n",
              "      <td>42</td>\n",
              "      <td>42</td>\n",
              "      <td>20.130175</td>\n",
              "      <td>81.604873</td>\n",
              "      <td>7.628473</td>\n",
              "      <td>262.717340</td>\n",
              "      <td>rice</td>\n",
              "    </tr>\n",
              "  </tbody>\n",
              "</table>\n",
              "</div>\n",
              "      <button class=\"colab-df-convert\" onclick=\"convertToInteractive('df-295bbf4d-e005-4823-9685-7b1dfc918585')\"\n",
              "              title=\"Convert this dataframe to an interactive table.\"\n",
              "              style=\"display:none;\">\n",
              "        \n",
              "  <svg xmlns=\"http://www.w3.org/2000/svg\" height=\"24px\"viewBox=\"0 0 24 24\"\n",
              "       width=\"24px\">\n",
              "    <path d=\"M0 0h24v24H0V0z\" fill=\"none\"/>\n",
              "    <path d=\"M18.56 5.44l.94 2.06.94-2.06 2.06-.94-2.06-.94-.94-2.06-.94 2.06-2.06.94zm-11 1L8.5 8.5l.94-2.06 2.06-.94-2.06-.94L8.5 2.5l-.94 2.06-2.06.94zm10 10l.94 2.06.94-2.06 2.06-.94-2.06-.94-.94-2.06-.94 2.06-2.06.94z\"/><path d=\"M17.41 7.96l-1.37-1.37c-.4-.4-.92-.59-1.43-.59-.52 0-1.04.2-1.43.59L10.3 9.45l-7.72 7.72c-.78.78-.78 2.05 0 2.83L4 21.41c.39.39.9.59 1.41.59.51 0 1.02-.2 1.41-.59l7.78-7.78 2.81-2.81c.8-.78.8-2.07 0-2.86zM5.41 20L4 18.59l7.72-7.72 1.47 1.35L5.41 20z\"/>\n",
              "  </svg>\n",
              "      </button>\n",
              "      \n",
              "  <style>\n",
              "    .colab-df-container {\n",
              "      display:flex;\n",
              "      flex-wrap:wrap;\n",
              "      gap: 12px;\n",
              "    }\n",
              "\n",
              "    .colab-df-convert {\n",
              "      background-color: #E8F0FE;\n",
              "      border: none;\n",
              "      border-radius: 50%;\n",
              "      cursor: pointer;\n",
              "      display: none;\n",
              "      fill: #1967D2;\n",
              "      height: 32px;\n",
              "      padding: 0 0 0 0;\n",
              "      width: 32px;\n",
              "    }\n",
              "\n",
              "    .colab-df-convert:hover {\n",
              "      background-color: #E2EBFA;\n",
              "      box-shadow: 0px 1px 2px rgba(60, 64, 67, 0.3), 0px 1px 3px 1px rgba(60, 64, 67, 0.15);\n",
              "      fill: #174EA6;\n",
              "    }\n",
              "\n",
              "    [theme=dark] .colab-df-convert {\n",
              "      background-color: #3B4455;\n",
              "      fill: #D2E3FC;\n",
              "    }\n",
              "\n",
              "    [theme=dark] .colab-df-convert:hover {\n",
              "      background-color: #434B5C;\n",
              "      box-shadow: 0px 1px 3px 1px rgba(0, 0, 0, 0.15);\n",
              "      filter: drop-shadow(0px 1px 2px rgba(0, 0, 0, 0.3));\n",
              "      fill: #FFFFFF;\n",
              "    }\n",
              "  </style>\n",
              "\n",
              "      <script>\n",
              "        const buttonEl =\n",
              "          document.querySelector('#df-295bbf4d-e005-4823-9685-7b1dfc918585 button.colab-df-convert');\n",
              "        buttonEl.style.display =\n",
              "          google.colab.kernel.accessAllowed ? 'block' : 'none';\n",
              "\n",
              "        async function convertToInteractive(key) {\n",
              "          const element = document.querySelector('#df-295bbf4d-e005-4823-9685-7b1dfc918585');\n",
              "          const dataTable =\n",
              "            await google.colab.kernel.invokeFunction('convertToInteractive',\n",
              "                                                     [key], {});\n",
              "          if (!dataTable) return;\n",
              "\n",
              "          const docLinkHtml = 'Like what you see? Visit the ' +\n",
              "            '<a target=\"_blank\" href=https://colab.research.google.com/notebooks/data_table.ipynb>data table notebook</a>'\n",
              "            + ' to learn more about interactive tables.';\n",
              "          element.innerHTML = '';\n",
              "          dataTable['output_type'] = 'display_data';\n",
              "          await google.colab.output.renderOutput(dataTable, element);\n",
              "          const docLink = document.createElement('div');\n",
              "          docLink.innerHTML = docLinkHtml;\n",
              "          element.appendChild(docLink);\n",
              "        }\n",
              "      </script>\n",
              "    </div>\n",
              "  </div>\n",
              "  "
            ]
          },
          "metadata": {},
          "execution_count": 84
        }
      ]
    },
    {
      "cell_type": "code",
      "source": [
        "from sklearn.cluster import KMeans\n",
        "x=data.drop(['label'],axis=1)\n",
        "y=x.values\n",
        "print(x.shape)\n",
        "x.head()"
      ],
      "metadata": {
        "colab": {
          "base_uri": "https://localhost:8080/",
          "height": 224
        },
        "id": "ZANFvvCcRtqX",
        "outputId": "c92e4367-db73-4f92-b454-6c90d03a3197"
      },
      "execution_count": 85,
      "outputs": [
        {
          "output_type": "stream",
          "name": "stdout",
          "text": [
            "(2200, 7)\n"
          ]
        },
        {
          "output_type": "execute_result",
          "data": {
            "text/plain": [
              "    N   P   K  temperature   humidity        ph    rainfall\n",
              "0  90  42  43    20.879744  82.002744  6.502985  202.935536\n",
              "1  85  58  41    21.770462  80.319644  7.038096  226.655537\n",
              "2  60  55  44    23.004459  82.320763  7.840207  263.964248\n",
              "3  74  35  40    26.491096  80.158363  6.980401  242.864034\n",
              "4  78  42  42    20.130175  81.604873  7.628473  262.717340"
            ],
            "text/html": [
              "\n",
              "  <div id=\"df-4a00805a-59d2-479a-81df-1bc55a3f6d75\">\n",
              "    <div class=\"colab-df-container\">\n",
              "      <div>\n",
              "<style scoped>\n",
              "    .dataframe tbody tr th:only-of-type {\n",
              "        vertical-align: middle;\n",
              "    }\n",
              "\n",
              "    .dataframe tbody tr th {\n",
              "        vertical-align: top;\n",
              "    }\n",
              "\n",
              "    .dataframe thead th {\n",
              "        text-align: right;\n",
              "    }\n",
              "</style>\n",
              "<table border=\"1\" class=\"dataframe\">\n",
              "  <thead>\n",
              "    <tr style=\"text-align: right;\">\n",
              "      <th></th>\n",
              "      <th>N</th>\n",
              "      <th>P</th>\n",
              "      <th>K</th>\n",
              "      <th>temperature</th>\n",
              "      <th>humidity</th>\n",
              "      <th>ph</th>\n",
              "      <th>rainfall</th>\n",
              "    </tr>\n",
              "  </thead>\n",
              "  <tbody>\n",
              "    <tr>\n",
              "      <th>0</th>\n",
              "      <td>90</td>\n",
              "      <td>42</td>\n",
              "      <td>43</td>\n",
              "      <td>20.879744</td>\n",
              "      <td>82.002744</td>\n",
              "      <td>6.502985</td>\n",
              "      <td>202.935536</td>\n",
              "    </tr>\n",
              "    <tr>\n",
              "      <th>1</th>\n",
              "      <td>85</td>\n",
              "      <td>58</td>\n",
              "      <td>41</td>\n",
              "      <td>21.770462</td>\n",
              "      <td>80.319644</td>\n",
              "      <td>7.038096</td>\n",
              "      <td>226.655537</td>\n",
              "    </tr>\n",
              "    <tr>\n",
              "      <th>2</th>\n",
              "      <td>60</td>\n",
              "      <td>55</td>\n",
              "      <td>44</td>\n",
              "      <td>23.004459</td>\n",
              "      <td>82.320763</td>\n",
              "      <td>7.840207</td>\n",
              "      <td>263.964248</td>\n",
              "    </tr>\n",
              "    <tr>\n",
              "      <th>3</th>\n",
              "      <td>74</td>\n",
              "      <td>35</td>\n",
              "      <td>40</td>\n",
              "      <td>26.491096</td>\n",
              "      <td>80.158363</td>\n",
              "      <td>6.980401</td>\n",
              "      <td>242.864034</td>\n",
              "    </tr>\n",
              "    <tr>\n",
              "      <th>4</th>\n",
              "      <td>78</td>\n",
              "      <td>42</td>\n",
              "      <td>42</td>\n",
              "      <td>20.130175</td>\n",
              "      <td>81.604873</td>\n",
              "      <td>7.628473</td>\n",
              "      <td>262.717340</td>\n",
              "    </tr>\n",
              "  </tbody>\n",
              "</table>\n",
              "</div>\n",
              "      <button class=\"colab-df-convert\" onclick=\"convertToInteractive('df-4a00805a-59d2-479a-81df-1bc55a3f6d75')\"\n",
              "              title=\"Convert this dataframe to an interactive table.\"\n",
              "              style=\"display:none;\">\n",
              "        \n",
              "  <svg xmlns=\"http://www.w3.org/2000/svg\" height=\"24px\"viewBox=\"0 0 24 24\"\n",
              "       width=\"24px\">\n",
              "    <path d=\"M0 0h24v24H0V0z\" fill=\"none\"/>\n",
              "    <path d=\"M18.56 5.44l.94 2.06.94-2.06 2.06-.94-2.06-.94-.94-2.06-.94 2.06-2.06.94zm-11 1L8.5 8.5l.94-2.06 2.06-.94-2.06-.94L8.5 2.5l-.94 2.06-2.06.94zm10 10l.94 2.06.94-2.06 2.06-.94-2.06-.94-.94-2.06-.94 2.06-2.06.94z\"/><path d=\"M17.41 7.96l-1.37-1.37c-.4-.4-.92-.59-1.43-.59-.52 0-1.04.2-1.43.59L10.3 9.45l-7.72 7.72c-.78.78-.78 2.05 0 2.83L4 21.41c.39.39.9.59 1.41.59.51 0 1.02-.2 1.41-.59l7.78-7.78 2.81-2.81c.8-.78.8-2.07 0-2.86zM5.41 20L4 18.59l7.72-7.72 1.47 1.35L5.41 20z\"/>\n",
              "  </svg>\n",
              "      </button>\n",
              "      \n",
              "  <style>\n",
              "    .colab-df-container {\n",
              "      display:flex;\n",
              "      flex-wrap:wrap;\n",
              "      gap: 12px;\n",
              "    }\n",
              "\n",
              "    .colab-df-convert {\n",
              "      background-color: #E8F0FE;\n",
              "      border: none;\n",
              "      border-radius: 50%;\n",
              "      cursor: pointer;\n",
              "      display: none;\n",
              "      fill: #1967D2;\n",
              "      height: 32px;\n",
              "      padding: 0 0 0 0;\n",
              "      width: 32px;\n",
              "    }\n",
              "\n",
              "    .colab-df-convert:hover {\n",
              "      background-color: #E2EBFA;\n",
              "      box-shadow: 0px 1px 2px rgba(60, 64, 67, 0.3), 0px 1px 3px 1px rgba(60, 64, 67, 0.15);\n",
              "      fill: #174EA6;\n",
              "    }\n",
              "\n",
              "    [theme=dark] .colab-df-convert {\n",
              "      background-color: #3B4455;\n",
              "      fill: #D2E3FC;\n",
              "    }\n",
              "\n",
              "    [theme=dark] .colab-df-convert:hover {\n",
              "      background-color: #434B5C;\n",
              "      box-shadow: 0px 1px 3px 1px rgba(0, 0, 0, 0.15);\n",
              "      filter: drop-shadow(0px 1px 2px rgba(0, 0, 0, 0.3));\n",
              "      fill: #FFFFFF;\n",
              "    }\n",
              "  </style>\n",
              "\n",
              "      <script>\n",
              "        const buttonEl =\n",
              "          document.querySelector('#df-4a00805a-59d2-479a-81df-1bc55a3f6d75 button.colab-df-convert');\n",
              "        buttonEl.style.display =\n",
              "          google.colab.kernel.accessAllowed ? 'block' : 'none';\n",
              "\n",
              "        async function convertToInteractive(key) {\n",
              "          const element = document.querySelector('#df-4a00805a-59d2-479a-81df-1bc55a3f6d75');\n",
              "          const dataTable =\n",
              "            await google.colab.kernel.invokeFunction('convertToInteractive',\n",
              "                                                     [key], {});\n",
              "          if (!dataTable) return;\n",
              "\n",
              "          const docLinkHtml = 'Like what you see? Visit the ' +\n",
              "            '<a target=\"_blank\" href=https://colab.research.google.com/notebooks/data_table.ipynb>data table notebook</a>'\n",
              "            + ' to learn more about interactive tables.';\n",
              "          element.innerHTML = '';\n",
              "          dataTable['output_type'] = 'display_data';\n",
              "          await google.colab.output.renderOutput(dataTable, element);\n",
              "          const docLink = document.createElement('div');\n",
              "          docLink.innerHTML = docLinkHtml;\n",
              "          element.appendChild(docLink);\n",
              "        }\n",
              "      </script>\n",
              "    </div>\n",
              "  </div>\n",
              "  "
            ]
          },
          "metadata": {},
          "execution_count": 85
        }
      ]
    },
    {
      "cell_type": "code",
      "source": [
        "plt.rcParams['figure.figsize']=(10,4)\n",
        "wss=[]\n",
        "for i in range(1,11):\n",
        "  km=KMeans(n_clusters=i,init=\"k-means++\", n_init=10, max_iter=300, tol=0.0001, verbose=0, random_state=None)\n",
        "  km.fit(x)\n",
        "  wss.append(km.inertia_)"
      ],
      "metadata": {
        "id": "1tBmkm1FCRmI"
      },
      "execution_count": 86,
      "outputs": []
    },
    {
      "cell_type": "code",
      "source": [
        "plt.plot(range(1,11),wss)\n",
        "plt.title(\"The Elbow Method\",fontsize=20)\n",
        "plt.xlabel('No of Cluster')\n",
        "plt.ylabel('WSS')\n",
        "plt.show()"
      ],
      "metadata": {
        "colab": {
          "base_uri": "https://localhost:8080/",
          "height": 300
        },
        "id": "0ZdexxymFv5k",
        "outputId": "75568715-b9ee-45c7-b8bd-05ffea253a00"
      },
      "execution_count": 87,
      "outputs": [
        {
          "output_type": "display_data",
          "data": {
            "text/plain": [
              "<Figure size 720x288 with 1 Axes>"
            ],
            "image/png": "[encoded data removed]"
          },
          "metadata": {
            "needs_background": "light"
          }
        }
      ]
    },
    {
      "cell_type": "code",
      "source": [
        "km=KMeans(n_clusters=4,init=\"k-means++\", n_init=10, max_iter=300,random_state=None)\n",
        "y_means=km.fit_predict(x)\n",
        "a=data['label']\n",
        "y_means=pd.DataFrame(y_means)\n",
        "z=pd.concat([y_means,a],axis=1)\n",
        "z=z.rename(columns={0:'cluster'})\n",
        "print('Lets check the results after applying K-means clustering algorithm \\n')\n",
        "print('crops in 1st Cluster :',z[z['cluster']==0]['label'].unique())\n",
        "print('-------------------------------------------------')\n",
        "print('crops in 2nd Cluster :',z[z['cluster']==1]['label'].unique())\n",
        "print('-------------------------------------------------')\n",
        "print('crops in 3rd Cluster :',z[z['cluster']==2]['label'].unique())\n",
        "print('-------------------------------------------------')\n",
        "print('crops in 4th Cluster :',z[z['cluster']==3]['label'].unique())\n",
        "print('-------------------------------------------------')"
      ],
      "metadata": {
        "colab": {
          "base_uri": "https://localhost:8080/"
        },
        "id": "fmLWEDjtA3n_",
        "outputId": "dce6f4e4-6e41-4f51-d2ad-edf3aee3cee2"
      },
      "execution_count": 88,
      "outputs": [
        {
          "output_type": "stream",
          "name": "stdout",
          "text": [
            "Lets check the results after applying K-means clustering algorithm \n",
            "\n",
            "crops in 1st Cluster : ['rice' 'pigeonpeas' 'papaya' 'coconut' 'jute' 'coffee']\n",
            "-------------------------------------------------\n",
            "crops in 2nd Cluster : ['maize' 'chickpea' 'kidneybeans' 'pigeonpeas' 'mothbeans' 'mungbean'\n",
            " 'blackgram' 'lentil' 'pomegranate' 'mango' 'orange' 'papaya' 'coconut']\n",
            "-------------------------------------------------\n",
            "crops in 3rd Cluster : ['maize' 'banana' 'watermelon' 'muskmelon' 'papaya' 'cotton' 'coffee']\n",
            "-------------------------------------------------\n",
            "crops in 4th Cluster : ['grapes' 'apple']\n",
            "-------------------------------------------------\n"
          ]
        }
      ]
    },
    {
      "cell_type": "code",
      "source": [
        "\n",
        "y=data['label']\n",
        "x=data.drop(['label'],axis=1)\n",
        "print('shape of x: ',x.shape)\n",
        "print('shape of y: ',y.shape)"
      ],
      "metadata": {
        "id": "6yfm9Dx3BRzV",
        "colab": {
          "base_uri": "https://localhost:8080/"
        },
        "outputId": "b885454f-532a-45b5-aa6f-030951bb5c5d"
      },
      "execution_count": 89,
      "outputs": [
        {
          "output_type": "stream",
          "name": "stdout",
          "text": [
            "shape of x:  (2200, 7)\n",
            "shape of y:  (2200,)\n"
          ]
        }
      ]
    },
    {
      "cell_type": "code",
      "source": [
        "from sklearn.model_selection import  train_test_split\n",
        "x_train,x_test,y_train,y_test=train_test_split(x,y,test_size=0.2,random_state=None)\n",
        "print('shape of x_train: ',x_train.shape)\n",
        "print('shape of x_test: ',x_test.shape)\n",
        "print('shape of y_train: ',y_train.shape)\n",
        "print('shape of y_test: ',y_test.shape)"
      ],
      "metadata": {
        "colab": {
          "base_uri": "https://localhost:8080/"
        },
        "id": "VZI9TcCMBAwX",
        "outputId": "a1eecef1-8410-4c3c-fed4-ce2c92f2a2bf"
      },
      "execution_count": 90,
      "outputs": [
        {
          "output_type": "stream",
          "name": "stdout",
          "text": [
            "shape of x_train:  (1760, 7)\n",
            "shape of x_test:  (440, 7)\n",
            "shape of y_train:  (1760,)\n",
            "shape of y_test:  (440,)\n"
          ]
        }
      ]
    },
    {
      "cell_type": "code",
      "source": [
        "# Training the Model\n",
        "from sklearn.linear_model import LogisticRegression\n",
        "model=LogisticRegression()\n",
        "model.fit(x_train,y_train)\n",
        "y_pred=model.predict(x_test)"
      ],
      "metadata": {
        "colab": {
          "base_uri": "https://localhost:8080/"
        },
        "id": "QgRJN_vzC440",
        "outputId": "bf7d97a8-038b-4eab-8f8b-fd2a2734ceb5"
      },
      "execution_count": 91,
      "outputs": [
        {
          "output_type": "stream",
          "name": "stderr",
          "text": [
            "/usr/local/lib/python3.7/dist-packages/sklearn/linear_model/_logistic.py:818: ConvergenceWarning: lbfgs failed to converge (status=1):\n",
            "STOP: TOTAL NO. of ITERATIONS REACHED LIMIT.\n",
            "\n",
            "Increase the number of iterations (max_iter) or scale the data as shown in:\n",
            "    https://scikit-learn.org/stable/modules/preprocessing.html\n",
            "Please also refer to the documentation for alternative solver options:\n",
            "    https://scikit-learn.org/stable/modules/linear_model.html#logistic-regression\n",
            "  extra_warning_msg=_LOGISTIC_SOLVER_CONVERGENCE_MSG,\n"
          ]
        }
      ]
    },
    {
      "cell_type": "code",
      "source": [
        "# Evaluating Model Performance\n",
        "from sklearn.metrics import confusion_matrix\n",
        " # Printing confusion matrix\n",
        "plt.rcParams['figure.figsize']=(10,10)\n",
        "cm=confusion_matrix(y_test,y_pred)\n",
        "sn.heatmap(cm,annot=True,cmap='Wistia')\n",
        "plt.title('Confusion Matrix for Logistic Regression',fontsize=15)\n",
        "plt.show()"
      ],
      "metadata": {
        "colab": {
          "base_uri": "https://localhost:8080/",
          "height": 609
        },
        "id": "gI8tVzrqxVjd",
        "outputId": "8cb02dbc-572a-46a7-c7d7-ab6438f53baa"
      },
      "execution_count": 92,
      "outputs": [
        {
          "output_type": "display_data",
          "data": {
            "text/plain": [
              "<Figure size 720x720 with 2 Axes>"
            ],
            "image/png": "[encoded data removed]"
          },
          "metadata": {
            "needs_background": "light"
          }
        }
      ]
    },
    {
      "cell_type": "code",
      "source": [
        "# Classification  Report of the model\n",
        "cr=classification_report(y_test,y_pred)\n",
        "print(cr)"
      ],
      "metadata": {
        "id": "p9cDeMct5HCp",
        "colab": {
          "base_uri": "https://localhost:8080/"
        },
        "outputId": "41ea3bf2-9356-48c3-c830-863eb1f2adad"
      },
      "execution_count": 93,
      "outputs": [
        {
          "output_type": "stream",
          "name": "stdout",
          "text": [
            "              precision    recall  f1-score   support\n",
            "\n",
            "       apple       1.00      1.00      1.00        16\n",
            "      banana       1.00      1.00      1.00        20\n",
            "   blackgram       0.94      0.80      0.86        20\n",
            "    chickpea       1.00      1.00      1.00        23\n",
            "     coconut       1.00      1.00      1.00        17\n",
            "      coffee       1.00      1.00      1.00        18\n",
            "      cotton       0.80      0.94      0.86        17\n",
            "      grapes       1.00      1.00      1.00        16\n",
            "        jute       0.77      0.85      0.81        20\n",
            " kidneybeans       0.95      1.00      0.98        21\n",
            "      lentil       1.00      0.96      0.98        23\n",
            "       maize       0.92      0.82      0.87        28\n",
            "       mango       1.00      1.00      1.00        19\n",
            "   mothbeans       0.82      0.95      0.88        19\n",
            "    mungbean       1.00      1.00      1.00        15\n",
            "   muskmelon       1.00      1.00      1.00        17\n",
            "      orange       1.00      1.00      1.00        23\n",
            "      papaya       0.96      0.92      0.94        26\n",
            "  pigeonpeas       0.95      0.95      0.95        21\n",
            " pomegranate       1.00      1.00      1.00        24\n",
            "        rice       0.88      0.82      0.85        17\n",
            "  watermelon       1.00      1.00      1.00        20\n",
            "\n",
            "    accuracy                           0.95       440\n",
            "   macro avg       0.95      0.96      0.95       440\n",
            "weighted avg       0.95      0.95      0.95       440\n",
            "\n"
          ]
        }
      ]
    },
    {
      "cell_type": "code",
      "source": [
        "# Checking model Prediction \n",
        "Prediction=model.predict(np.array([[90,40,40,20,80,7,200]]))\n",
        "print('The suggested crop for given climatic condition is ',Prediction)"
      ],
      "metadata": {
        "colab": {
          "base_uri": "https://localhost:8080/"
        },
        "id": "z7GyOKaM7kw8",
        "outputId": "3e7e9169-cd0f-4e98-af5b-7afe8202d9b1"
      },
      "execution_count": 100,
      "outputs": [
        {
          "output_type": "stream",
          "name": "stdout",
          "text": [
            "The suggested crop for given climatic condition is  ['rice']\n"
          ]
        },
        {
          "output_type": "stream",
          "name": "stderr",
          "text": [
            "/usr/local/lib/python3.7/dist-packages/sklearn/base.py:451: UserWarning: X does not have valid feature names, but LogisticRegression was fitted with feature names\n",
            "  \"X does not have valid feature names, but\"\n"
          ]
        }
      ]
    },
    {
      "cell_type": "markdown",
      "source": [],
      "metadata": {
        "id": "VM8Ev8Zk7z7i"
      }
    }
  ]
}